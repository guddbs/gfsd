{
 "cells": [
  {
   "cell_type": "code",
   "execution_count": 13,
   "id": "d131a5e5",
   "metadata": {},
   "outputs": [
    {
     "name": "stdout",
     "output_type": "stream",
     "text": [
      "신장(cm) : 175\n",
      "체중(kg) : 72\n",
      "\"bmi지수는 23.5로 과체중입니다\"\n"
     ]
    }
   ],
   "source": [
    "##############################################################################\n",
    "\n",
    "# BMI 계산기\n",
    "\n",
    "# 1.사용자로부터 신장(cm), 체중(kg)을 입력 받으세요.\n",
    "\n",
    "height = float(input(\"신장(cm) : \"))\n",
    "\n",
    "weight = float(input(\"체중(kg) : \"))\n",
    "\n",
    "\n",
    "\n",
    "# 2. BMI 계산하기\n",
    "\n",
    "# bmi =  체중(kg) / (신장(m) x 신장(m))\n",
    "\n",
    "bmi = weight / (height/100*height/100)\n",
    "\n",
    "\n",
    "# 3.bmi 소수점 둘째자리에서 반올림\n",
    "\n",
    "# round()함수를 활용하세요. (인터넷 검색) \n",
    "a = round(bmi,1)\n",
    "\n",
    "# 4.bmi 지수에 맞게 고도비만, 비만, 과체중, 등으로 출력하도록 작성하세요.\n",
    "\n",
    "if a >= 30:\n",
    "    print(f'\"bmi지수는 {a}로 고도비만입니다.\"')\n",
    "elif a >=25:\n",
    "    print(f'\"bmi지수는 {a}로 비만입니다.\"')\n",
    "elif a >=23:\n",
    "    print(f'\"bmi지수는 {a}로 과체중입니다\"')\n",
    "elif a >= 18.5:\n",
    "    print(f'\"bmi지수는 {a}로 정상입니다.\"')\n",
    "else:\n",
    "    print(f'\"bmi지수는 {a}로 저체중입니다.\"')\n",
    "\n",
    "# 5.결과 출력\n",
    "\n",
    "# 예: \"bmi지수는 22.1로 정상입니다.\"\n",
    "\n",
    "# 예시와 같이 출력되도록 코드를 작성하세요."
   ]
  }
 ],
 "metadata": {
  "kernelspec": {
   "display_name": "Python 3 (ipykernel)",
   "language": "python",
   "name": "python3"
  },
  "language_info": {
   "codemirror_mode": {
    "name": "ipython",
    "version": 3
   },
   "file_extension": ".py",
   "mimetype": "text/x-python",
   "name": "python",
   "nbconvert_exporter": "python",
   "pygments_lexer": "ipython3",
   "version": "3.9.13"
  }
 },
 "nbformat": 4,
 "nbformat_minor": 5
}
