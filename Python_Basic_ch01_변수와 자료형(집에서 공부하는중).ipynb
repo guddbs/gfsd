{
 "cells": [
  {
   "cell_type": "markdown",
   "id": "ee577391",
   "metadata": {},
   "source": [
    "### 1. 출력함수(print)"
   ]
  },
  {
   "cell_type": "code",
   "execution_count": 5,
   "id": "57054add",
   "metadata": {},
   "outputs": [
    {
     "name": "stdout",
     "output_type": "stream",
     "text": [
      "Hello Python\n",
      "Hello Python\n",
      "25\n",
      "3.14\n",
      "True\n"
     ]
    }
   ],
   "source": [
    "print(\"Hello Python\")\n",
    "print('Hello Python')\n",
    "print(25)\n",
    "print(3.14)\n",
    "print(True)"
   ]
  },
  {
   "cell_type": "markdown",
   "id": "de735a54",
   "metadata": {},
   "source": [
    "#### 참고. escape 코드\n",
    "\n",
    "문자열 내의 일부 문자의 의미를 달리하여 특정한 효과를 주는 것\n",
    "- \\n : 한 줄 개행\n",
    "- \\t : 탭(8칸 공백)"
   ]
  },
  {
   "cell_type": "code",
   "execution_count": 6,
   "id": "a44cecf9",
   "metadata": {},
   "outputs": [
    {
     "name": "stdout",
     "output_type": "stream",
     "text": [
      "Hello \n",
      " Python\n",
      "Hello \t Python\n"
     ]
    }
   ],
   "source": [
    "print(\"Hello \\n Python\")\n",
    "print(\"Hello \\t Python\")"
   ]
  },
  {
   "cell_type": "markdown",
   "id": "f1abdcb2",
   "metadata": {},
   "source": [
    "#### 소수점 출력하기\n",
    "\n",
    "- {0:3d} : 0번째, 3글자, d(정수)\n",
    "- {1:3.2f} : 첫번째, 3글자, 소수점 2자리, f(실수)"
   ]
  },
  {
   "cell_type": "code",
   "execution_count": 26,
   "id": "b2f589d3",
   "metadata": {},
   "outputs": [
    {
     "name": "stdout",
     "output_type": "stream",
     "text": [
      "이름: 김형윤, 학점 : 4.5\n",
      "Test1 : 369, Test2 : 623.46\n"
     ]
    }
   ],
   "source": [
    "print(\"이름: {}, 학점 : {}\".format(\"김형윤\",4.5))\n",
    "print(\"Test1 : {0:3d}, Test2 : {1:3.2f}\".format(369, 623.4567))"
   ]
  },
  {
   "cell_type": "markdown",
   "id": "3e37e839",
   "metadata": {},
   "source": [
    "## 2.  주석(comment)\n",
    "\n",
    "- 코드에서 #으로 시작하는 뒷 부분을 실행하지 않음\n",
    "- 파이썬 소스코드가 실행 시 #은 무시하고 실행\n",
    "- 개발자(사람)가 보기 위한 용도로 사용\n",
    "- 개발 시 주석을 잘 활요하는 사람이 좋은 개발자\n",
    "- 코드 뒤에 주석 쓸 때 2번 띄기"
   ]
  },
  {
   "cell_type": "code",
   "execution_count": 27,
   "id": "bfe57757",
   "metadata": {},
   "outputs": [
    {
     "name": "stdout",
     "output_type": "stream",
     "text": [
      "231299\n"
     ]
    }
   ],
   "source": [
    "student_num = \"231299\"  # 학번\n",
    "\n",
    "# 학번 출력\n",
    "print(student_num)"
   ]
  },
  {
   "cell_type": "markdown",
   "id": "70c16034",
   "metadata": {},
   "source": [
    "## 3. 자료형 (type)\n",
    "\n",
    "1. 문자열(string) : \"Hello\", 'hi' ## 전화번호도 문자열로 받음\n",
    "2. 정수형 숫자(int) : 3, 0, -1\n",
    "3. 실수형 숫자(float) : 3.1, 0.0, -2.2\n",
    "4. 논리형(boolean) : True, False ## 첫글자는 무조건 대문자!!\n",
    "\n",
    "- type() 함수를 사용해서 자료형 확인 가능"
   ]
  },
  {
   "cell_type": "code",
   "execution_count": 32,
   "id": "11a40320",
   "metadata": {},
   "outputs": [
    {
     "name": "stdout",
     "output_type": "stream",
     "text": [
      "<class 'float'>\n",
      "<class 'str'>\n"
     ]
    }
   ],
   "source": [
    "print(type(3.14))\n",
    "print(type(\"Hi\"))"
   ]
  },
  {
   "cell_type": "markdown",
   "id": "f9308914",
   "metadata": {},
   "source": [
    "형변환(Type Casting)\n",
    "\n",
    "- 형변환을 사용하면 자료형을 원하는 type으로 변환 가능\n",
    "\n",
    "1. int() : () 안의 값을 정수형으로 변환\n",
    "2. float() : () 안의 값을 실수형으로 변환\n",
    "3. str() : () 안의 값을 문자형으로 변환"
   ]
  },
  {
   "cell_type": "code",
   "execution_count": 61,
   "id": "fffc2c84",
   "metadata": {},
   "outputs": [
    {
     "ename": "TypeError",
     "evalue": "'float' object is not callable",
     "output_type": "error",
     "traceback": [
      "\u001b[1;31m---------------------------------------------------------------------------\u001b[0m",
      "\u001b[1;31mTypeError\u001b[0m                                 Traceback (most recent call last)",
      "\u001b[1;32m~\\AppData\\Local\\Temp\\ipykernel_4984\\4055518032.py\u001b[0m in \u001b[0;36m<module>\u001b[1;34m\u001b[0m\n\u001b[0;32m      4\u001b[0m \u001b[1;31m# 실수형 -> 정수형 (o)\u001b[0m\u001b[1;33m\u001b[0m\u001b[1;33m\u001b[0m\u001b[0m\n\u001b[0;32m      5\u001b[0m \u001b[0ma\u001b[0m \u001b[1;33m=\u001b[0m \u001b[1;36m3.14\u001b[0m\u001b[1;33m\u001b[0m\u001b[1;33m\u001b[0m\u001b[0m\n\u001b[1;32m----> 6\u001b[1;33m \u001b[0mprint\u001b[0m\u001b[1;33m(\u001b[0m\u001b[0mint\u001b[0m\u001b[1;33m(\u001b[0m\u001b[0ma\u001b[0m\u001b[1;33m)\u001b[0m\u001b[1;33m)\u001b[0m\u001b[1;33m\u001b[0m\u001b[1;33m\u001b[0m\u001b[0m\n\u001b[0m\u001b[0;32m      7\u001b[0m \u001b[1;33m\u001b[0m\u001b[0m\n\u001b[0;32m      8\u001b[0m \u001b[1;31m# 정수형 -> 실수형 (o)\u001b[0m\u001b[1;33m\u001b[0m\u001b[1;33m\u001b[0m\u001b[0m\n",
      "\u001b[1;31mTypeError\u001b[0m: 'float' object is not callable"
     ]
    }
   ],
   "source": [
    "# int(\"Hello\") (x)\n",
    "# float(\"Hi\") (x)\n",
    "\n",
    "# 실수형 -> 정수형 (o)\n",
    "a = 3.14\n",
    "print(int(a))\n",
    "\n",
    "# 정수형 -> 실수형 (o)\n",
    "b = 3\n",
    "print(float(b))\n",
    "\n",
    "# 문자열 정수형 - > 정수형 (o)\n",
    "c = \"3\"\n",
    "print(int(c))"
   ]
  },
  {
   "cell_type": "code",
   "execution_count": 55,
   "id": "924e0455",
   "metadata": {},
   "outputs": [
    {
     "name": "stdout",
     "output_type": "stream",
     "text": [
      "<class 'float'>\n"
     ]
    }
   ],
   "source": [
    "print(type(3.14))"
   ]
  },
  {
   "cell_type": "markdown",
   "id": "4c13680d",
   "metadata": {},
   "source": [
    "## None\n",
    "\n",
    "- 아무런 값을 갖지 않을 때 사용\n",
    "- 일반적으로 변수가 초기값을 갖지 않게 하여 해당 변수를 생성할 때 사용\n",
    "- 기타 언어의 Null과 같은 의미로 사용"
   ]
  },
  {
   "cell_type": "code",
   "execution_count": 1,
   "id": "75bd59e6",
   "metadata": {},
   "outputs": [
    {
     "name": "stdout",
     "output_type": "stream",
     "text": [
      "None\n"
     ]
    }
   ],
   "source": [
    "student_name = None\n",
    "print(student_name)"
   ]
  },
  {
   "cell_type": "markdown",
   "id": "e2597ddc",
   "metadata": {},
   "source": [
    "## 4. 변수(variable)\n",
    "\n",
    "변수 :하나의 값을 저장할 수 있는 메모리 공간"
   ]
  },
  {
   "cell_type": "code",
   "execution_count": 2,
   "id": "69c17c9d",
   "metadata": {},
   "outputs": [],
   "source": [
    "# 변수 선언 및 초기화 방법\n",
    "num = 5"
   ]
  },
  {
   "cell_type": "markdown",
   "id": "1eaab25f",
   "metadata": {},
   "source": [
    "동적 타이핑 언어 : 코드 작성 시 type을 명시하지 않음(코드 실행시 python이 체크)\n",
    "대입 연산자(=): 우측의 값을 좌측에 대입, 동등(equal)의 의미는 아님\n",
    "\n",
    "- python에서 동등(equal)은 ==을 사용"
   ]
  },
  {
   "cell_type": "code",
   "execution_count": 8,
   "id": "5f71f551",
   "metadata": {},
   "outputs": [
    {
     "name": "stdout",
     "output_type": "stream",
     "text": [
      "hyeongyun kim\n"
     ]
    }
   ],
   "source": [
    "# name 변수 생성\n",
    "# \"hyeongyun Kim\"값을 name 변수에 저장\n",
    "\n",
    "# name -> 변수 이름\n",
    "# = -> 대입 연산자\n",
    "# \"hyeongyun Kim\" -> 값\n",
    "name = \"hyeongyun kim\"\n",
    "print(name)"
   ]
  },
  {
   "cell_type": "markdown",
   "id": "ebe82478",
   "metadata": {},
   "source": [
    "## 명명 규칙(naming rule)\n",
    "\n",
    "1. 영문 대소문자, _, 숫자로만 구성\n",
    "2. 숫자로 시작할 수 없음\n",
    "3. 영어 대소문자 구별\n",
    "4. 예약어 사용불가\n",
    "\n",
    "- 예약어: Python에서 미리 선정하여 사용 중인 키워드\n",
    "- 예약어는 변수,함수,클래스 등의 사용자 정의 이름으로 사용할 수 없음\n",
    "- 예약어 예) for, while, if ,None, True, False, return, def 등등"
   ]
  },
  {
   "cell_type": "code",
   "execution_count": 13,
   "id": "6dfc29d2",
   "metadata": {},
   "outputs": [
    {
     "name": "stdout",
     "output_type": "stream",
     "text": [
      "5\n",
      "3\n"
     ]
    }
   ],
   "source": [
    "# 숫자로 시작불가\n",
    "# 1abc = 5 # (x)\n",
    "abc1 = 5 # (o)\n",
    "Abc = 3\n",
    "print(abc1)\n",
    "print(Abc)\n",
    "\n",
    "# 영어 대소문자 구별\n",
    "abc = 6\n",
    "Abc = 7\n",
    "\n",
    "# 예약어는 사용 불가\n",
    "# None = 3 # (x)\n",
    "# print = 5 # (X)"
   ]
  },
  {
   "cell_type": "markdown",
   "id": "1dd63195",
   "metadata": {},
   "source": [
    "## 5. Naming method\n",
    "\n",
    "- 변수, 함수, 클래스 등의 사용자 정의 이름에 사용\n",
    "- 프로그래밍 언어별로 사용하는 Naming method가 다름\n",
    "- Python은 snake_case 사용!!\n",
    "\n",
    "1. snake_case : 소문자로 작성, 합성어 '_'사용 <- 이거 많이 사용\n",
    "2. camelcase : 첫글자 소문자, 합성어 첫글자 대문자\n",
    "3. pasacalcase : 첫글자 대문자, 합성어 첫글자 대문자"
   ]
  },
  {
   "cell_type": "markdown",
   "id": "ff2dd29f",
   "metadata": {},
   "source": [
    "## 6. format 출력\n",
    "\n",
    "1. format() : 과거\n",
    "2. f-string : 최신"
   ]
  },
  {
   "cell_type": "code",
   "execution_count": 18,
   "id": "aa5f3c67",
   "metadata": {},
   "outputs": [
    {
     "name": "stdout",
     "output_type": "stream",
     "text": [
      "전남대학교 김형윤, 231299 입니다.\n",
      "전남대학교 김형윤, 231299 입니다.\n"
     ]
    }
   ],
   "source": [
    "student_name = \"김형윤\"\n",
    "student_num = 231299\n",
    "\n",
    "# 출력 : 전남대학교 231299, 김형윤 입니다.\n",
    "print(\"전남대학교 {}, {} 입니다.\".format(student_name, student_num))\n",
    "print(f\"전남대학교 {student_name}, {student_num} 입니다.\")"
   ]
  },
  {
   "cell_type": "markdown",
   "id": "4e39c787",
   "metadata": {},
   "source": [
    "## 7. 사칙연산\n",
    "\n",
    "- 더하기 : +\n",
    "- 빼기 : -\n",
    "- 곱하기 : *\n",
    "- 나누기 : /\n",
    "- 나누기(몫) : //\n",
    "- 나누기 (나머지) : %\n",
    "- 제곱 : **"
   ]
  },
  {
   "cell_type": "code",
   "execution_count": 29,
   "id": "39f42294",
   "metadata": {},
   "outputs": [
    {
     "name": "stdout",
     "output_type": "stream",
     "text": [
      "81\n"
     ]
    }
   ],
   "source": [
    "a = 3\n",
    "b = 4\n",
    "print(a**b)"
   ]
  },
  {
   "cell_type": "markdown",
   "id": "b1975ce1",
   "metadata": {},
   "source": [
    "## 8. 문자열(string)\n",
    "\n",
    "- 복수개의 문자를 순서대로 나열한 것\n",
    "- 문자열은 '' 또는 \"\" 사이에 문자를 넣어서 생성\n",
    "- 문자열 자체에 '' 또는 \"\"이 있는 경우 각각 그 반재로 사용\n",
    "- 예시 : print('챗봇 : \"만나서 반갑습니다.\"\")"
   ]
  },
  {
   "cell_type": "code",
   "execution_count": 30,
   "id": "ae2c7b04",
   "metadata": {},
   "outputs": [
    {
     "name": "stdout",
     "output_type": "stream",
     "text": [
      "hi\n",
      "hi\n",
      "\n",
      "      hi\n",
      "      hello\n",
      "      \n",
      "\n",
      "      hi\n",
      "      hello\n",
      "      nice meet you\n"
     ]
    }
   ],
   "source": [
    "print(\"hi\")  # 한 줄만 출력\n",
    "print(\"hi\")  # 한 줄만 출력\n",
    "print(\"\"\"\n",
    "      hi\n",
    "      hello\n",
    "      \"\"\")  ## 복수 출력\n",
    "print('''\n",
    "      hi\n",
    "      hello\n",
    "      nice meet you''')"
   ]
  },
  {
   "cell_type": "markdown",
   "id": "3783e8d7",
   "metadata": {},
   "source": [
    "## 2. 문자열 인덱스(index)\n",
    "\n",
    "- 문자열의 각 문자는 순서(인덱스)가 있음\n",
    "- 첫번째 문자부터 마지막 문자까지 순차적으로 인덱스를 가짐\n",
    "- 인덱스의 시작은 0번부터 시작\n",
    "- 인덱스는 공백도 포함\n",
    "\n",
    "## 문자 추출\n",
    "\n",
    "- 인덱스 번호를 통해서 문자 추출 가능\n",
    "- 인덱스 범위를 벗어나면 error 발생\n",
    " \n",
    " > 변수명[인덱스번호] -> name[3]"
   ]
  },
  {
   "cell_type": "code",
   "execution_count": 33,
   "id": "3b9a610a",
   "metadata": {},
   "outputs": [
    {
     "name": "stdout",
     "output_type": "stream",
     "text": [
      "o\n"
     ]
    },
    {
     "ename": "IndexError",
     "evalue": "string index out of range",
     "output_type": "error",
     "traceback": [
      "\u001b[1;31m---------------------------------------------------------------------------\u001b[0m",
      "\u001b[1;31mIndexError\u001b[0m                                Traceback (most recent call last)",
      "\u001b[1;32m~\\AppData\\Local\\Temp\\ipykernel_30812\\2180988639.py\u001b[0m in \u001b[0;36m<module>\u001b[1;34m\u001b[0m\n\u001b[0;32m      4\u001b[0m \u001b[0mmsg\u001b[0m \u001b[1;33m=\u001b[0m \u001b[1;34m\"Hello Python\"\u001b[0m\u001b[1;33m\u001b[0m\u001b[1;33m\u001b[0m\u001b[0m\n\u001b[0;32m      5\u001b[0m \u001b[0mprint\u001b[0m\u001b[1;33m(\u001b[0m\u001b[0mmsg\u001b[0m\u001b[1;33m[\u001b[0m\u001b[1;36m4\u001b[0m\u001b[1;33m]\u001b[0m\u001b[1;33m)\u001b[0m\u001b[1;33m\u001b[0m\u001b[1;33m\u001b[0m\u001b[0m\n\u001b[1;32m----> 6\u001b[1;33m \u001b[0mprint\u001b[0m\u001b[1;33m(\u001b[0m\u001b[0mmsg\u001b[0m\u001b[1;33m[\u001b[0m\u001b[1;36m12\u001b[0m\u001b[1;33m]\u001b[0m\u001b[1;33m)\u001b[0m  \u001b[1;31m## 에러뜨는 이유 -> 문지열 범위 오바함\u001b[0m\u001b[1;33m\u001b[0m\u001b[1;33m\u001b[0m\u001b[0m\n\u001b[0m",
      "\u001b[1;31mIndexError\u001b[0m: string index out of range"
     ]
    }
   ],
   "source": [
    "# 문자열 길이 : 12\n",
    "# 인덱스 법위 : 0~11\n",
    "# 공벡 포함\n",
    "msg = \"Hello Python\"\n",
    "print(msg[4])\n",
    "print(msg[12])  ## 에러뜨는 이유 -> 문지열 범위 오바함"
   ]
  },
  {
   "cell_type": "markdown",
   "id": "c9ec8c19",
   "metadata": {},
   "source": [
    "## reverse index"
   ]
  },
  {
   "cell_type": "code",
   "execution_count": 35,
   "id": "3e348ed1",
   "metadata": {},
   "outputs": [
    {
     "name": "stdout",
     "output_type": "stream",
     "text": [
      "n\n",
      "h\n"
     ]
    }
   ],
   "source": [
    "msg = \"Hello Python\"  ## 시험에 나옴 ㄹㅇ 중요함 진짜로\n",
    "## 역순 -> 맨뒤가 -1임\n",
    "print(msg[-1])\n",
    "print(msg[-3])"
   ]
  },
  {
   "cell_type": "markdown",
   "id": "3da0daec",
   "metadata": {},
   "source": [
    "## 3. 문자열 슬라이싱\n",
    "\n",
    "- a[3]은 인덱스를 통해 문자 하나만 추출 가능\n",
    "- 부분 문자열을 추출하고 싶은 경우 슬라이싱 사용\n",
    "- 시작 인덱스 번호가 생략되면 0으로 설정\n",
    "- 끝 인덱스 번호가 생략되면 -1으로 설정\n",
    "\n",
    "> 변수명[시작:끝] -> name[3:5] 3~4(끝 인덱스는 -1임)"
   ]
  },
  {
   "cell_type": "code",
   "execution_count": 42,
   "id": "d75ae004",
   "metadata": {},
   "outputs": [
    {
     "name": "stdout",
     "output_type": "stream",
     "text": [
      "P\n",
      "Python\n",
      "Python\n",
      " is all you need\n",
      "Python is all you need\n"
     ]
    }
   ],
   "source": [
    "# 시험에 무조건 나온다고 생각해야함\n",
    "comment = \"Python is all you need\"\n",
    "\n",
    "print(comment[0])\n",
    "print(comment[0:6])  ## 실제론 0~5번 까지임\n",
    "print(comment[:6])\n",
    "print(comment[6:])\n",
    "print(comment[:])"
   ]
  },
  {
   "cell_type": "code",
   "execution_count": 48,
   "id": "3ab309e7",
   "metadata": {},
   "outputs": [
    {
     "name": "stdout",
     "output_type": "stream",
     "text": [
      "need\n",
      "need\n"
     ]
    }
   ],
   "source": [
    "# need만 추출하여라\n",
    "comment = \"Python is all you need\"\n",
    "\n",
    "print(comment[18:])\n",
    "print(comment[-4:])"
   ]
  },
  {
   "cell_type": "markdown",
   "id": "e1ed31c4",
   "metadata": {},
   "source": [
    "## 4. 문자열 멤버 함수"
   ]
  },
  {
   "cell_type": "code",
   "execution_count": 49,
   "id": "f4593086",
   "metadata": {},
   "outputs": [],
   "source": [
    "str = \"Hello Python\""
   ]
  },
  {
   "cell_type": "code",
   "execution_count": 52,
   "id": "e2c73503",
   "metadata": {},
   "outputs": [
    {
     "name": "stdout",
     "output_type": "stream",
     "text": [
      "12\n"
     ]
    }
   ],
   "source": [
    "# len() : 문자열 길이를 계산\n",
    "print(len(str))"
   ]
  },
  {
   "cell_type": "code",
   "execution_count": 54,
   "id": "6c60dbc1",
   "metadata": {},
   "outputs": [
    {
     "name": "stdout",
     "output_type": "stream",
     "text": [
      "HELLO PYTHON\n",
      "hello python\n"
     ]
    }
   ],
   "source": [
    "# upper() and lower() : 대문자 또는 소문자로 변경\n",
    "print(str.upper())\n",
    "print(str.lower())"
   ]
  },
  {
   "cell_type": "code",
   "execution_count": 56,
   "id": "31a912af",
   "metadata": {},
   "outputs": [
    {
     "data": {
      "text/plain": [
       "'Hetto Python'"
      ]
     },
     "execution_count": 56,
     "metadata": {},
     "output_type": "execute_result"
    }
   ],
   "source": [
    "# replace() : 문자열 내의 특정 문자 치환\n",
    "str.replace(\"l\", \"t\") # 복수개 치환임"
   ]
  },
  {
   "cell_type": "code",
   "execution_count": 59,
   "id": "916a1ece",
   "metadata": {},
   "outputs": [
    {
     "name": "stdout",
     "output_type": "stream",
     "text": [
      "['Hello ', 'orld ', 'hat a nice ', 'eather']\n",
      "['call', 'me', 'baby']\n"
     ]
    }
   ],
   "source": [
    "# split() : 구분자를 기준으로 문자열 분할, default 구분자 공백\n",
    "a = \"Hello world what a nice weather\"\n",
    "b = \"call me baby\"\n",
    "print(a.split(\"w\"))\n",
    "print(b.split())"
   ]
  },
  {
   "cell_type": "code",
   "execution_count": null,
   "id": "cae136d7",
   "metadata": {},
   "outputs": [],
   "source": []
  }
 ],
 "metadata": {
  "kernelspec": {
   "display_name": "Python 3 (ipykernel)",
   "language": "python",
   "name": "python3"
  },
  "language_info": {
   "codemirror_mode": {
    "name": "ipython",
    "version": 3
   },
   "file_extension": ".py",
   "mimetype": "text/x-python",
   "name": "python",
   "nbconvert_exporter": "python",
   "pygments_lexer": "ipython3",
   "version": "3.9.13"
  }
 },
 "nbformat": 4,
 "nbformat_minor": 5
}
