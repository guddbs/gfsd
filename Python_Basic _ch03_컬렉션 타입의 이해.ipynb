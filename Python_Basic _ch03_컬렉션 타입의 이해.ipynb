{
 "cells": [
  {
   "cell_type": "markdown",
   "id": "f881992e",
   "metadata": {},
   "source": [
    "## 컬렉션 타입\n",
    "\n",
    "- 변수: 하나에 값을 저장할 수 있는 메모리 공간\n",
    "- 컬렉션 타입: 다양한 자료형의 여러값을 저장 가능\n",
    "- list,dict, tuple, set\n",
    "\n",
    "1.list[]\n",
    "- 시퀀스 자료형(연속 된 값 저장) 정렬가능\n",
    "- mutable (생성 후 변경 가능)\n",
    "- index 사용 slicing 가능\n",
    "- packing과 unpacking 가능\n",
    "- 멤버함수: append() extend() insert() removea() pop() sort() 등등\n",
    "\n",
    "2.tuple()\n",
    "- 시퀀스 자료형(연속 된 값 저장 ) 정렬불가능\n",
    "- immutable (생성 후 변경 불가능)\n",
    "- index 사용 slicing 가능\n",
    "- () 생략 가능\n",
    "- 1개의 원소만 가지는 경우, 사용 (1,) 콤마를 붙여야함\n",
    "\n",
    "3.dict{key:value}\n",
    "- key, value 한 쌍으로 구성된 구조\n",
    "- key 를 통해서 value 접근\n",
    "- KEy 중복 불가 , value  중복가능\n",
    "- 순서 없음 index 없음\n",
    "- 멤버함수 : update() fet() keys() values() items()\n",
    "\n",
    "4.set{}\n",
    "- dict type 에서 key만 활용하는 데이터 구조로 이해\n",
    "- 수학 집합과 같은 개념\n",
    "- 순서 없음 index 없음\n",
    "- set 구조 내 중복값 허용 안함\n",
    "- 멤버함수 : union() intersetion() difference() 등"
   ]
  },
  {
   "cell_type": "code",
   "execution_count": 2,
   "id": "d69108fe",
   "metadata": {},
   "outputs": [],
   "source": [
    "# list 초기화\n",
    "# 1. []\n",
    "# 2. list()\n",
    "\n",
    "list_a = []\n",
    "list_b = [1,2,3]\n",
    "list_c = [\"cnu\", 3.14, [1,2,3]]"
   ]
  },
  {
   "cell_type": "code",
   "execution_count": 3,
   "id": "3c875ca3",
   "metadata": {},
   "outputs": [
    {
     "name": "stdout",
     "output_type": "stream",
     "text": [
      "['H', 'e', 'l', 'l', 'o']\n",
      "[1, 2, 3]\n"
     ]
    }
   ],
   "source": [
    "str_a = \"Hello\"\n",
    "list_d = list(str_a) # 문자열 -> list 형변환\n",
    "print(list_d)\n",
    "\n",
    "tuple_a = (1,2,3)\n",
    "list_e = list(tuple_a)\n",
    "print(list_e)"
   ]
  },
  {
   "cell_type": "code",
   "execution_count": 4,
   "id": "43218d99",
   "metadata": {},
   "outputs": [
    {
     "name": "stdout",
     "output_type": "stream",
     "text": [
      "4\n",
      "[2, 3]\n",
      "[1, 2]\n"
     ]
    }
   ],
   "source": [
    "list_f = [1,2,3,4,5]\n",
    "print(list_f[3])\n",
    "print(list_f[1:3])\n",
    "print(list_f[:2])"
   ]
  },
  {
   "cell_type": "code",
   "execution_count": 5,
   "id": "20e3cf06",
   "metadata": {},
   "outputs": [
    {
     "name": "stdout",
     "output_type": "stream",
     "text": [
      "[1, 2, 3, 10]\n"
     ]
    }
   ],
   "source": [
    "# append() : list 마지막에 값을 추가\n",
    "a = [1,2,3]\n",
    "a.append(10)\n",
    "print(a)"
   ]
  },
  {
   "cell_type": "code",
   "execution_count": 6,
   "id": "2566ddd0",
   "metadata": {},
   "outputs": [
    {
     "name": "stdout",
     "output_type": "stream",
     "text": [
      "[1, 99, 2, 3]\n"
     ]
    }
   ],
   "source": [
    "# insert() :list 원하는 인덱스 위치에 값을 추가\n",
    "\n",
    "a = [1,2,3]\n",
    "a.insert(1,99)\n",
    "print(a)"
   ]
  },
  {
   "cell_type": "code",
   "execution_count": 13,
   "id": "c4ef6dbb",
   "metadata": {},
   "outputs": [
    {
     "name": "stdout",
     "output_type": "stream",
     "text": [
      "[1, 2, 3, 4, 5, 6]\n",
      "[1, 2, 3, 4, 5, 6]\n"
     ]
    }
   ],
   "source": [
    "# extend() : list 와 list 병합\n",
    "a = [1,2,3]\n",
    "b = [4,5,6]\n",
    "\n",
    "# a.append(b)  X -> b 를 변수 하나로 봄\n",
    "\n",
    "a +=b  # a = a + b\n",
    "# a -=b\n",
    "# a *=b\n",
    "print(a)\n",
    "\n",
    "a = [1,2,3]\n",
    "b = [4,5,6]\n",
    "a.extend(b)\n",
    "print(a)"
   ]
  },
  {
   "cell_type": "code",
   "execution_count": 14,
   "id": "4812ea46",
   "metadata": {},
   "outputs": [
    {
     "name": "stdout",
     "output_type": "stream",
     "text": [
      "[1, 3]\n"
     ]
    }
   ],
   "source": [
    "# remove() : 값을 통해서 삭제(인덱스 x)\n",
    "a = [1, 2, 3]\n",
    "a.remove(2)\n",
    "print(a)"
   ]
  },
  {
   "cell_type": "code",
   "execution_count": 16,
   "id": "ab08bd18",
   "metadata": {},
   "outputs": [
    {
     "name": "stdout",
     "output_type": "stream",
     "text": [
      "[4, 5]\n",
      "6\n"
     ]
    }
   ],
   "source": [
    "# pop() : 인덱스를 통해서 삭제(+ 삭제 전 값을 변수에 저장 가능)\n",
    "a = [4, 5, 6]\n",
    "# a.pop(1) 이것도 가능\n",
    "b = a.pop(2)\n",
    "print(a)\n",
    "print(b)"
   ]
  },
  {
   "cell_type": "code",
   "execution_count": 17,
   "id": "f48dabc7",
   "metadata": {},
   "outputs": [
    {
     "name": "stdout",
     "output_type": "stream",
     "text": [
      "2\n"
     ]
    }
   ],
   "source": [
    "# index() : 찾고자하는 값의 인덱스 번호 출력 \n",
    "a = [8, 10, 20, 5, 3]\n",
    "print(a.index(20))"
   ]
  },
  {
   "cell_type": "code",
   "execution_count": 22,
   "id": "caddb8e4",
   "metadata": {},
   "outputs": [
    {
     "data": {
      "text/plain": [
       "'yoonkim8566'"
      ]
     },
     "execution_count": 22,
     "metadata": {},
     "output_type": "execute_result"
    }
   ],
   "source": [
    "email = \"yoonkim8566@naver.com\"\n",
    "\n",
    "email_idx = email.index(\"@\")\n",
    "email[:email.index(\"@\")]\n",
    "email[:email_idx]"
   ]
  },
  {
   "cell_type": "code",
   "execution_count": 23,
   "id": "ac35bcf8",
   "metadata": {},
   "outputs": [
    {
     "name": "stdout",
     "output_type": "stream",
     "text": [
      "True\n",
      "False\n"
     ]
    }
   ],
   "source": [
    "# in : list내에 해당 값이 존재(True, False)\n",
    "a = [1, 2, 3]\n",
    "print(3 in a)\n",
    "print(5 in a)"
   ]
  },
  {
   "cell_type": "code",
   "execution_count": 28,
   "id": "222a4229",
   "metadata": {},
   "outputs": [
    {
     "name": "stdout",
     "output_type": "stream",
     "text": [
      "[1, 36, 3, 4, 45, 6, 90, 8, 15, 10]\n",
      "[1, 3, 4, 6, 8, 10, 15, 36, 45, 90]\n",
      "==================================================\n",
      "[90, 45, 36, 15, 10, 8, 6, 4, 3, 1]\n"
     ]
    }
   ],
   "source": [
    "# sort() and sorted() : list 정렬\n",
    "# - sort() : 원본 list 정렬\n",
    "# - sorted() : list 복제 후 정렬\n",
    "a = [1, 36, 3, 4, 45, 6, 90, 8, 15, 10]\n",
    "\n",
    "b = sorted(a)  # 정렬 default : 오름차순\n",
    "print(a)\n",
    "print(b)\n",
    "print(\"=\" * 50)\n",
    "a.sort(reverse=True)  # 정렬 : 내림차순 게시판에서 많이 사용함\n",
    "print(a)"
   ]
  },
  {
   "cell_type": "markdown",
   "id": "4776be32",
   "metadata": {},
   "source": [
    "### 2. tuple"
   ]
  },
  {
   "cell_type": "code",
   "execution_count": 31,
   "id": "f7dcfbb7",
   "metadata": {},
   "outputs": [
    {
     "name": "stdout",
     "output_type": "stream",
     "text": [
      "<class 'list'>\n",
      "<class 'tuple'>\n",
      "<class 'tuple'>\n",
      "[99, 2, 3]\n"
     ]
    },
    {
     "ename": "TypeError",
     "evalue": "'tuple' object does not support item assignment",
     "output_type": "error",
     "traceback": [
      "\u001b[1;31m---------------------------------------------------------------------------\u001b[0m",
      "\u001b[1;31mTypeError\u001b[0m                                 Traceback (most recent call last)",
      "\u001b[1;32m~\\AppData\\Local\\Temp\\ipykernel_29764\\1346452319.py\u001b[0m in \u001b[0;36m<module>\u001b[1;34m\u001b[0m\n\u001b[0;32m     10\u001b[0m \u001b[0mprint\u001b[0m\u001b[1;33m(\u001b[0m\u001b[0ma\u001b[0m\u001b[1;33m)\u001b[0m\u001b[1;33m\u001b[0m\u001b[1;33m\u001b[0m\u001b[0m\n\u001b[0;32m     11\u001b[0m \u001b[1;33m\u001b[0m\u001b[0m\n\u001b[1;32m---> 12\u001b[1;33m \u001b[0mb\u001b[0m\u001b[1;33m[\u001b[0m\u001b[1;36m0\u001b[0m\u001b[1;33m]\u001b[0m \u001b[1;33m=\u001b[0m \u001b[1;36m99\u001b[0m\u001b[1;33m\u001b[0m\u001b[1;33m\u001b[0m\u001b[0m\n\u001b[0m\u001b[0;32m     13\u001b[0m \u001b[0mprint\u001b[0m\u001b[1;33m(\u001b[0m\u001b[0ma\u001b[0m\u001b[1;33m)\u001b[0m\u001b[1;33m\u001b[0m\u001b[1;33m\u001b[0m\u001b[0m\n",
      "\u001b[1;31mTypeError\u001b[0m: 'tuple' object does not support item assignment"
     ]
    }
   ],
   "source": [
    "a = [1, 2, 3]  # list type\n",
    "b = (1, 2, 3)  # tuple type\n",
    "c = 5, 6, 7    # tuple type\n",
    "\n",
    "print(type(a))\n",
    "print(type(b))\n",
    "print(type(c))\n",
    "\n",
    "a[0] = 99\n",
    "print(a)\n",
    "\n",
    "b[0] = 99  # 에러가 정상 튜플은 불가능\n",
    "print(a)"
   ]
  },
  {
   "cell_type": "code",
   "execution_count": 32,
   "id": "cb0d0f26",
   "metadata": {},
   "outputs": [
    {
     "name": "stdout",
     "output_type": "stream",
     "text": [
      "1 2 3\n"
     ]
    }
   ],
   "source": [
    "# packing amd unpacking\n",
    "# - list와 tuple 가능\n",
    "# - [], () -> 값을 묶음(packing)\n",
    "\n",
    "tuple_num = (1, 2, 3)  # packing\n",
    "a, b, c = tuple_num    # unpacking\n",
    "print(a, b, c)"
   ]
  },
  {
   "cell_type": "markdown",
   "id": "6b803b0c",
   "metadata": {},
   "source": [
    "### 연습문제\n",
    "변수 a와 b의 값을 교환하세요"
   ]
  },
  {
   "cell_type": "code",
   "execution_count": 38,
   "id": "69fc551e",
   "metadata": {},
   "outputs": [
    {
     "name": "stdout",
     "output_type": "stream",
     "text": [
      "9\n",
      "5\n"
     ]
    }
   ],
   "source": [
    "a = 5\n",
    "b = 9\n",
    "\n",
    "# 코드 작성\n",
    "# 1. 임시변수 사용\n",
    "# temp = a\n",
    "# a = b\n",
    "# b = temp\n",
    "# 2.tuple() 사용\n",
    "a, b = b, a\n",
    "\n",
    "print(a)  # 출력 9\n",
    "print(b)  # 출력 5"
   ]
  },
  {
   "cell_type": "markdown",
   "id": "5324e70b",
   "metadata": {},
   "source": [
    "### 3. dict"
   ]
  },
  {
   "cell_type": "code",
   "execution_count": 39,
   "id": "5a2fb834",
   "metadata": {},
   "outputs": [
    {
     "name": "stdout",
     "output_type": "stream",
     "text": [
      "Ottawa\n",
      "9\n"
     ]
    }
   ],
   "source": [
    "dict_a = {\"Korea\" : \"Seoul\",\n",
    "          \"Canada\" : \"Ottawa\",\n",
    "          \"Usa\" : \"washington D.C\"}\n",
    "dict_b = {0:1, 1:6, 2:4, 3:9}\n",
    "print(dict_a[\"Canada\"])\n",
    "print(dict_b[3])"
   ]
  },
  {
   "cell_type": "code",
   "execution_count": 45,
   "id": "b5875ba3",
   "metadata": {},
   "outputs": [
    {
     "name": "stdout",
     "output_type": "stream",
     "text": [
      "{'Canada': 'Ottawa',\n",
      " 'Japan': 'kyoto',\n",
      " 'Japan2': 'kyoto',\n",
      " 'Korea': 'Seoul',\n",
      " 'Usa': 'washington D.C'}\n"
     ]
    }
   ],
   "source": [
    "import pprint\n",
    "dict_a = {\"Korea\" : \"Seoul\",\n",
    "          \"Canada\" : \"Ottawa\",\n",
    "          \"Usa\" : \"washington D.C\"}\n",
    "\n",
    "# 값을 입력 -> key 값이 x(입력), key 값이 o(수정)\n",
    "# key 값은 중복 안되지만 value 값은 중복 가능!!\n",
    "dict_a[\"Japan\"] = \"Tokyo\"\n",
    "dict_a[\"Japan\"] = \"kyoto\"\n",
    "dict_a[\"Japan2\"] = \"kyoto\"\n",
    "# print(dict_a)\n",
    "pprint.pprint(dict_a)"
   ]
  },
  {
   "cell_type": "code",
   "execution_count": 67,
   "id": "a7d9afa2",
   "metadata": {},
   "outputs": [
    {
     "name": "stdout",
     "output_type": "stream",
     "text": [
      "{'a': 9, 'b': 2, 'd': 4, 'e': 5}\n"
     ]
    }
   ],
   "source": [
    "# update() : dict와 dict 병합\n",
    "a = {\n",
    "    \"a\" : 1,\n",
    "    \"b\" : 2\n",
    "}\n",
    "b = {\n",
    "    \"a\" : 9,\n",
    "    \"d\" : 4,\n",
    "    \"e\" : 5 \n",
    "}\n",
    "a.update(b)\n",
    "print(a)"
   ]
  },
  {
   "cell_type": "code",
   "execution_count": 68,
   "id": "ebce405f",
   "metadata": {},
   "outputs": [
    {
     "name": "stdout",
     "output_type": "stream",
     "text": [
      "{'b': 2, 'd': 4, 'e': 5}\n",
      "9\n"
     ]
    }
   ],
   "source": [
    "# pop() : dict 항목 삭제\n",
    "c = a.pop(\"a\")\n",
    "print(a)\n",
    "print(c)"
   ]
  },
  {
   "cell_type": "code",
   "execution_count": 65,
   "id": "b69bf595",
   "metadata": {},
   "outputs": [
    {
     "name": "stdout",
     "output_type": "stream",
     "text": [
      "5\n",
      "None\n"
     ]
    }
   ],
   "source": [
    "# 값 접근\n",
    "print(a[\"e\"])\n",
    "#print(a[\"f\"])\n",
    "print(a.get(\"f\"))"
   ]
  },
  {
   "cell_type": "code",
   "execution_count": 66,
   "id": "9b930ecc",
   "metadata": {
    "scrolled": true
   },
   "outputs": [
    {
     "name": "stdout",
     "output_type": "stream",
     "text": [
      "True\n"
     ]
    }
   ],
   "source": [
    "# in\n",
    "print(\"b\" in a)"
   ]
  },
  {
   "cell_type": "code",
   "execution_count": 69,
   "id": "f53bafc4",
   "metadata": {},
   "outputs": [
    {
     "name": "stdout",
     "output_type": "stream",
     "text": [
      "{'b': 2, 'd': 4, 'e': 5}\n",
      "{}\n"
     ]
    }
   ],
   "source": [
    "# clear() : dict 초기화\n",
    "print(a)\n",
    "a.clear()\n",
    "print(a)"
   ]
  },
  {
   "cell_type": "code",
   "execution_count": 14,
   "id": "3082670c",
   "metadata": {},
   "outputs": [
    {
     "name": "stdout",
     "output_type": "stream",
     "text": [
      "[('a', 1), ('b', 2)]\n",
      "<class 'list'>\n",
      "<class 'tuple'>\n"
     ]
    }
   ],
   "source": [
    "# keys() : key 값만 반환\n",
    "#values() : value값만 반환\n",
    "#items() : key, value를 튜플로반환 \n",
    "\n",
    "a = {\n",
    "    \"a\" : 1,\n",
    "    \"b\" : 2\n",
    "}\n",
    "\n",
    "# print(a)\n",
    "# print(a.keys())\n",
    "# print(type(a.keys()))\n",
    "# print(a.values())\n",
    "# print(type(a.values()))\n",
    "# print(a.items())\n",
    "# print(type(a.items()))\n",
    "\n",
    "# print(list(a.keys()))\n",
    "# print(type(list(a.keys())))\n",
    "\n",
    "print(list(a.items()))\n",
    "\n",
    "val = list(a.items())\n",
    "print(type(val))\n",
    "print(type(val[0]))"
   ]
  },
  {
   "cell_type": "markdown",
   "id": "b9f63f80",
   "metadata": {},
   "source": [
    "### 4. set"
   ]
  },
  {
   "cell_type": "code",
   "execution_count": 21,
   "id": "a46400b3",
   "metadata": {},
   "outputs": [
    {
     "name": "stdout",
     "output_type": "stream",
     "text": [
      "[1, 1, 1, 2, 2, 2, 3, 3, 4, 4, 5]\n",
      "{1, 2, 3, 4, 5}\n",
      "<class 'dict'>\n",
      "<class 'set'>\n"
     ]
    }
   ],
   "source": [
    "list_z = [1, 1, 1, 2, 2, 2, 3, 3, 4, 4, 5]\n",
    "print(list_z)\n",
    "\n",
    "set_a = set(list_z)\n",
    "print(set_a)  ## 중복값 제거할 때 많이 사용\n",
    "\n",
    "# set? or dict?\n",
    "j = {}  ## 이건 dict  \n",
    "p = {1, 2, 3}  ## 이건 set\n",
    "print(type(j))\n",
    "print(type(p))"
   ]
  },
  {
   "cell_type": "code",
   "execution_count": 19,
   "id": "d2b62fcf",
   "metadata": {},
   "outputs": [
    {
     "name": "stdout",
     "output_type": "stream",
     "text": [
      "{1, 2, 3, 4}\n",
      "{2, 3}\n",
      "{1}\n",
      "False\n"
     ]
    }
   ],
   "source": [
    "a = {1, 2, 3}\n",
    "b = {2, 3, 4}\n",
    "\n",
    "\n",
    "## 시험에는 안나옴 \n",
    "print(a.union(b))  # 합집합\n",
    "print(a.intersection(b))  # 교집합\n",
    "print(a.difference(b))   # 차집합\n",
    "print(a.issubset(b))  # 부분집합(b가 {1,2,3,4}이면)  true 반환"
   ]
  }
 ],
 "metadata": {
  "kernelspec": {
   "display_name": "Python 3 (ipykernel)",
   "language": "python",
   "name": "python3"
  },
  "language_info": {
   "codemirror_mode": {
    "name": "ipython",
    "version": 3
   },
   "file_extension": ".py",
   "mimetype": "text/x-python",
   "name": "python",
   "nbconvert_exporter": "python",
   "pygments_lexer": "ipython3",
   "version": "3.9.13"
  }
 },
 "nbformat": 4,
 "nbformat_minor": 5
}
