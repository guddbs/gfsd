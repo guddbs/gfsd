{
 "cells": [
  {
   "cell_type": "markdown",
   "id": "9e048105",
   "metadata": {},
   "source": [
    "### 1. 출력함수(print)"
   ]
  },
  {
   "cell_type": "code",
   "execution_count": 5,
   "id": "53f9af09",
   "metadata": {},
   "outputs": [
    {
     "name": "stdout",
     "output_type": "stream",
     "text": [
      "Hello Python\n",
      "Hello Python\n",
      "25\n",
      "3.14\n",
      "True\n"
     ]
    }
   ],
   "source": [
    "print(\"Hello Python\")\n",
    "print('Hello Python')\n",
    "print(25)\n",
    "print(3.14)\n",
    "print(True)"
   ]
  },
  {
   "cell_type": "markdown",
   "id": "bee480bf",
   "metadata": {},
   "source": [
    "#### 참고. escape 코드\n",
    "\n",
    "문자열 내의 일부 문자의 의미를 달리하여 특정한 효과를 주는 것\n",
    "- \\n : 한 줄 개행\n",
    "- \\t : 탭(8칸 공백)"
   ]
  },
  {
   "cell_type": "code",
   "execution_count": 6,
   "id": "16804811",
   "metadata": {},
   "outputs": [
    {
     "name": "stdout",
     "output_type": "stream",
     "text": [
      "Hello \n",
      " Python\n",
      "Hello \t Python\n"
     ]
    }
   ],
   "source": [
    "print(\"Hello \\n Python\")\n",
    "print(\"Hello \\t Python\")"
   ]
  },
  {
   "cell_type": "markdown",
   "id": "5368aef6",
   "metadata": {},
   "source": [
    "#### 소수점 출력하기\n",
    "\n",
    "- {0:3d} : 0번째, 3글자, d(정수)\n",
    "- {1:3.2f} : 첫번째, 3글자, 소수점 2자리, f(실수)"
   ]
  },
  {
   "cell_type": "code",
   "execution_count": 26,
   "id": "2d648637",
   "metadata": {},
   "outputs": [
    {
     "name": "stdout",
     "output_type": "stream",
     "text": [
      "이름: 김형윤, 학점 : 4.5\n",
      "Test1 : 369, Test2 : 623.46\n"
     ]
    }
   ],
   "source": [
    "print(\"이름: {}, 학점 : {}\".format(\"김형윤\",4.5))\n",
    "print(\"Test1 : {0:3d}, Test2 : {1:3.2f}\".format(369, 623.4567))"
   ]
  },
  {
   "cell_type": "markdown",
   "id": "d720e8df",
   "metadata": {},
   "source": [
    "## 2.  주석(comment)\n",
    "\n",
    "- 코드에서 #으로 시작하는 뒷 부분을 실행하지 않음\n",
    "- 파이썬 소스코드가 실행 시 #은 무시하고 실행\n",
    "- 개발자(사람)가 보기 위한 용도로 사용\n",
    "- 개발 시 주석을 잘 활요하는 사람이 좋은 개발자\n",
    "- 코드 뒤에 주석 쓸 때 2번 띄기"
   ]
  },
  {
   "cell_type": "code",
   "execution_count": 27,
   "id": "5dac82ea",
   "metadata": {},
   "outputs": [
    {
     "name": "stdout",
     "output_type": "stream",
     "text": [
      "231299\n"
     ]
    }
   ],
   "source": [
    "student_num = \"231299\"  # 학번\n",
    "\n",
    "# 학번 출력\n",
    "print(student_num)"
   ]
  },
  {
   "cell_type": "markdown",
   "id": "c6712622",
   "metadata": {},
   "source": [
    "## 3. 자료형 (type)\n",
    "\n",
    "1. 문자열(string) : \"Hello\", 'hi' ## 전화번호도 문자열로 받음\n",
    "2. 정수형 숫자(int) : 3, 0, -1\n",
    "3. 실수형 숫자(float) : 3.1, 0.0, -2.2\n",
    "4. 논리형(boolean) : True, False ## 첫글자는 무조건 대문자!!\n",
    "\n",
    "- type() 함수를 사용해서 자료형 확인 가능"
   ]
  },
  {
   "cell_type": "code",
   "execution_count": 32,
   "id": "2d6e5df0",
   "metadata": {},
   "outputs": [
    {
     "name": "stdout",
     "output_type": "stream",
     "text": [
      "<class 'float'>\n",
      "<class 'str'>\n"
     ]
    }
   ],
   "source": [
    "print(type(3.14))\n",
    "print(type(\"Hi\"))"
   ]
  },
  {
   "cell_type": "markdown",
   "id": "bc484bee",
   "metadata": {},
   "source": [
    "형변환(Type Casting)\n",
    "\n",
    "- 형변환을 사용하면 자료형을 원하는 type으로 변환 가능\n",
    "\n",
    "1. int() : () 안의 값을 정수형으로 변환\n",
    "2. float() : () 안의 값을 실수형으로 변환\n",
    "3. str() : () 안의 값을 문자형으로 변환"
   ]
  },
  {
   "cell_type": "code",
   "execution_count": 61,
   "id": "e49b5be7",
   "metadata": {},
   "outputs": [
    {
     "ename": "TypeError",
     "evalue": "'float' object is not callable",
     "output_type": "error",
     "traceback": [
      "\u001b[1;31m---------------------------------------------------------------------------\u001b[0m",
      "\u001b[1;31mTypeError\u001b[0m                                 Traceback (most recent call last)",
      "\u001b[1;32m~\\AppData\\Local\\Temp\\ipykernel_4984\\4055518032.py\u001b[0m in \u001b[0;36m<module>\u001b[1;34m\u001b[0m\n\u001b[0;32m      4\u001b[0m \u001b[1;31m# 실수형 -> 정수형 (o)\u001b[0m\u001b[1;33m\u001b[0m\u001b[1;33m\u001b[0m\u001b[0m\n\u001b[0;32m      5\u001b[0m \u001b[0ma\u001b[0m \u001b[1;33m=\u001b[0m \u001b[1;36m3.14\u001b[0m\u001b[1;33m\u001b[0m\u001b[1;33m\u001b[0m\u001b[0m\n\u001b[1;32m----> 6\u001b[1;33m \u001b[0mprint\u001b[0m\u001b[1;33m(\u001b[0m\u001b[0mint\u001b[0m\u001b[1;33m(\u001b[0m\u001b[0ma\u001b[0m\u001b[1;33m)\u001b[0m\u001b[1;33m)\u001b[0m\u001b[1;33m\u001b[0m\u001b[1;33m\u001b[0m\u001b[0m\n\u001b[0m\u001b[0;32m      7\u001b[0m \u001b[1;33m\u001b[0m\u001b[0m\n\u001b[0;32m      8\u001b[0m \u001b[1;31m# 정수형 -> 실수형 (o)\u001b[0m\u001b[1;33m\u001b[0m\u001b[1;33m\u001b[0m\u001b[0m\n",
      "\u001b[1;31mTypeError\u001b[0m: 'float' object is not callable"
     ]
    }
   ],
   "source": [
    "# int(\"Hello\") (x)\n",
    "# float(\"Hi\") (x)\n",
    "\n",
    "# 실수형 -> 정수형 (o)\n",
    "a = 3.14\n",
    "print(int(a))\n",
    "\n",
    "# 정수형 -> 실수형 (o)\n",
    "b = 3\n",
    "print(float(b))\n",
    "\n",
    "# 문자열 정수형 - > 정수형 (o)\n",
    "c = \"3\"\n",
    "print(int(c))"
   ]
  },
  {
   "cell_type": "code",
   "execution_count": 55,
   "id": "35db2372",
   "metadata": {},
   "outputs": [
    {
     "name": "stdout",
     "output_type": "stream",
     "text": [
      "<class 'float'>\n"
     ]
    }
   ],
   "source": [
    "print(type(3.14))"
   ]
  }
 ],
 "metadata": {
  "kernelspec": {
   "display_name": "Python 3 (ipykernel)",
   "language": "python",
   "name": "python3"
  },
  "language_info": {
   "codemirror_mode": {
    "name": "ipython",
    "version": 3
   },
   "file_extension": ".py",
   "mimetype": "text/x-python",
   "name": "python",
   "nbconvert_exporter": "python",
   "pygments_lexer": "ipython3",
   "version": "3.9.13"
  }
 },
 "nbformat": 4,
 "nbformat_minor": 5
}
